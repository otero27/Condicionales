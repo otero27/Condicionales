{
  "nbformat": 4,
  "nbformat_minor": 0,
  "metadata": {
    "colab": {
      "provenance": [],
      "authorship_tag": "ABX9TyPXCLQ35UVjQR45NUQj2fAX",
      "include_colab_link": true
    },
    "kernelspec": {
      "name": "python3",
      "display_name": "Python 3"
    },
    "language_info": {
      "name": "python"
    }
  },
  "cells": [
    {
      "cell_type": "markdown",
      "metadata": {
        "id": "view-in-github",
        "colab_type": "text"
      },
      "source": [
        "<a href=\"https://colab.research.google.com/github/otero27/Condicionales/blob/main/Condicionales.ipynb\" target=\"_parent\"><img src=\"https://colab.research.google.com/assets/colab-badge.svg\" alt=\"Open In Colab\"/></a>"
      ]
    },
    {
      "cell_type": "markdown",
      "source": [
        "### CONDICIONALES\n",
        "- **Presentado por:** Wilson Otero Almario\n",
        "\n",
        "- **email:** Wilson.otero@upb.edu.co\n",
        "\n",
        "Ejercicios sobre condicionales"
      ],
      "metadata": {
        "id": "SKZWbzDkCltT"
      }
    },
    {
      "cell_type": "markdown",
      "source": [
        "## Algoritmo\n",
        "\n",
        "1. Iniciar\n",
        "2. Obtener el número de nillos que entrará en la función\n",
        "3. Obtener el número de adullas que entrará en la función\n",
        "4. Obtener la hora de la función (0-24)\n",
        "5. Determinar el total dependiendo de la hora de la función:\n",
        "- Si la hora es menor a Tit, entonces, total num ninos 5000 num adultos 7500\n",
        "- Si la hora es mayor o igual a 18, entonces total = (num ninos + num adultos) 10000\n",
        "6. Mostrar total\n",
        "7. Si el total es mayor a $50000, indicar que se han ganado una crispeta gratis\n",
        "8. Finalizar\n",
        "\n",
        "\n"
      ],
      "metadata": {
        "id": "qIxPmEAQ-S9U"
      }
    },
    {
      "cell_type": "markdown",
      "source": [
        "### Pseudocódigo\n",
        "\n",
        "```\n",
        "Program calcularEntradasCine\n",
        "Start\n",
        "  // Programa para calcular el total de las entradas a cine\n",
        "  Declare Int num_ninos\n",
        "  Declare Int num_adultos\n",
        "  Declare Int hora\n",
        "  Declare Float total\n",
        "\n",
        "  Display \"Ingrese el número de niños: \"\n",
        "  Input num_ninos\n",
        "  Display \"Ingrese el número de adultos: \"\n",
        "  Input num_adultos\n",
        "  Display \"Ingrese la hora de la función (0 - 23): \"\n",
        "  Input hora\n",
        "  \n",
        "  // Determinar el total a pagar dependiendo de la hora de la función\n",
        "  If hora < 18 Then\n",
        "    total = num_ninos * 5000 + num_adultos * 7500\n",
        "  Else\n",
        "    total = (num_ninos + num_adultos) * 10000\n",
        "  End If\n",
        "  \n",
        "  Display \"El total a pagar es \", total\n",
        "\n",
        "  // Determinar si el grupo se gana unas crispetas\n",
        "  If total > 50000 Then\n",
        "    Display \"Se ha ganado unas crispetas familiar.\"\n",
        "  End If\n",
        "  \n",
        "  Display \"Disfrute de la función :\"\n",
        "\n",
        "End\n",
        "```"
      ],
      "metadata": {
        "id": "YhHBAiPQ9WgJ"
      }
    },
    {
      "cell_type": "code",
      "source": [
        "num_ninos = int(input(\"Ingrese el número de niños: \"))\n",
        "num_adultos = int(input(\"Ingrese el número de adultos: \"))\n",
        "hora = int(input(\"Ingrese la hora de la función (0 - 23): \"))\n",
        "\n",
        "if hora < 18:\n",
        "  total = num_ninos * 5000 + num_adultos * 7500\n",
        "else:\n",
        "  total = (num_ninos + num_adultos) * 10000\n",
        "\n",
        "print(\"El total a pagar es $\", total)\n",
        "\n",
        "if total > 50000:\n",
        "  print(\"Se ha ganado unas crispetas familiar.\")\n",
        "\n",
        "print(\"Disfrute de la función :)\")"
      ],
      "metadata": {
        "colab": {
          "base_uri": "https://localhost:8080/"
        },
        "id": "AmaSvwHCBpkU",
        "outputId": "13279685-5129-4bb1-876f-d96d920c78f2"
      },
      "execution_count": 2,
      "outputs": [
        {
          "output_type": "stream",
          "name": "stdout",
          "text": [
            "Ingrese el número de niños: 15\n",
            "Ingrese el número de adultos: 20\n",
            "Ingrese la hora de la función (0 - 23): 10\n",
            "El total a pagar es $ 225000\n",
            "Se ha ganado unas crispetas familiar.\n",
            "Disfrute de la función :)\n"
          ]
        }
      ]
    }
  ]
}